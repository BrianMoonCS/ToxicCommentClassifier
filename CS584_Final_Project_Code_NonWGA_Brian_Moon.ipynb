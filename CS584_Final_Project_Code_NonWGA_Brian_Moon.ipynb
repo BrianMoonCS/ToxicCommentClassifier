{
  "cells": [
    {
      "cell_type": "markdown",
      "metadata": {
        "id": "iLmjcPyyGdQl"
      },
      "source": [
        "# CS 584-A Final Project\n",
        "# Toxic Comment Classification Technique: worst group accuracy optimization\n",
        "# Non-WGA (Overall Accuracy) Model\n",
        "### Name: Brian Moon\n",
        "### CWID: 10468944\n",
        "### Stevens Institute of Technology\n",
        "##### I pledge my honor that I have abided by the Stevens Honor System"
      ]
    },
    {
      "cell_type": "code",
      "execution_count": 1,
      "metadata": {
        "colab": {
          "base_uri": "https://localhost:8080/"
        },
        "id": "bhg-jCDbflt0",
        "outputId": "af4faddf-929e-4bc7-950b-a2528f08bd1b"
      },
      "outputs": [
        {
          "name": "stdout",
          "output_type": "stream",
          "text": [
            "\u001b[33mWARNING: Skipping datasets as it is not installed.\u001b[0m\u001b[33m\n",
            "\u001b[2K   \u001b[90m━━━━━━━━━━━━━━━━━━━━━━━━━━━━━━━━━━━━━━━━\u001b[0m \u001b[32m510.5/510.5 kB\u001b[0m \u001b[31m13.6 MB/s\u001b[0m eta \u001b[36m0:00:00\u001b[0m\n",
            "\u001b[2K   \u001b[90m━━━━━━━━━━━━━━━━━━━━━━━━━━━━━━━━━━━━━━━━\u001b[0m \u001b[32m116.3/116.3 kB\u001b[0m \u001b[31m8.6 MB/s\u001b[0m eta \u001b[36m0:00:00\u001b[0m\n",
            "\u001b[2K   \u001b[90m━━━━━━━━━━━━━━━━━━━━━━━━━━━━━━━━━━━━━━━━\u001b[0m \u001b[32m170.9/170.9 kB\u001b[0m \u001b[31m12.6 MB/s\u001b[0m eta \u001b[36m0:00:00\u001b[0m\n",
            "\u001b[2K   \u001b[90m━━━━━━━━━━━━━━━━━━━━━━━━━━━━━━━━━━━━━━━━\u001b[0m \u001b[32m143.5/143.5 kB\u001b[0m \u001b[31m9.3 MB/s\u001b[0m eta \u001b[36m0:00:00\u001b[0m\n",
            "\u001b[2K   \u001b[90m━━━━━━━━━━━━━━━━━━━━━━━━━━━━━━━━━━━━━━━━\u001b[0m \u001b[32m194.8/194.8 kB\u001b[0m \u001b[31m13.6 MB/s\u001b[0m eta \u001b[36m0:00:00\u001b[0m\n",
            "\u001b[?25h\u001b[31mERROR: pip's dependency resolver does not currently take into account all the packages that are installed. This behaviour is the source of the following dependency conflicts.\n",
            "torch 2.6.0+cu124 requires nvidia-cublas-cu12==12.4.5.8; platform_system == \"Linux\" and platform_machine == \"x86_64\", but you have nvidia-cublas-cu12 12.5.3.2 which is incompatible.\n",
            "torch 2.6.0+cu124 requires nvidia-cuda-cupti-cu12==12.4.127; platform_system == \"Linux\" and platform_machine == \"x86_64\", but you have nvidia-cuda-cupti-cu12 12.5.82 which is incompatible.\n",
            "torch 2.6.0+cu124 requires nvidia-cuda-nvrtc-cu12==12.4.127; platform_system == \"Linux\" and platform_machine == \"x86_64\", but you have nvidia-cuda-nvrtc-cu12 12.5.82 which is incompatible.\n",
            "torch 2.6.0+cu124 requires nvidia-cuda-runtime-cu12==12.4.127; platform_system == \"Linux\" and platform_machine == \"x86_64\", but you have nvidia-cuda-runtime-cu12 12.5.82 which is incompatible.\n",
            "torch 2.6.0+cu124 requires nvidia-cudnn-cu12==9.1.0.70; platform_system == \"Linux\" and platform_machine == \"x86_64\", but you have nvidia-cudnn-cu12 9.3.0.75 which is incompatible.\n",
            "torch 2.6.0+cu124 requires nvidia-cufft-cu12==11.2.1.3; platform_system == \"Linux\" and platform_machine == \"x86_64\", but you have nvidia-cufft-cu12 11.2.3.61 which is incompatible.\n",
            "torch 2.6.0+cu124 requires nvidia-curand-cu12==10.3.5.147; platform_system == \"Linux\" and platform_machine == \"x86_64\", but you have nvidia-curand-cu12 10.3.6.82 which is incompatible.\n",
            "torch 2.6.0+cu124 requires nvidia-cusolver-cu12==11.6.1.9; platform_system == \"Linux\" and platform_machine == \"x86_64\", but you have nvidia-cusolver-cu12 11.6.3.83 which is incompatible.\n",
            "torch 2.6.0+cu124 requires nvidia-cusparse-cu12==12.3.1.170; platform_system == \"Linux\" and platform_machine == \"x86_64\", but you have nvidia-cusparse-cu12 12.5.1.3 which is incompatible.\n",
            "torch 2.6.0+cu124 requires nvidia-nvjitlink-cu12==12.4.127; platform_system == \"Linux\" and platform_machine == \"x86_64\", but you have nvidia-nvjitlink-cu12 12.5.82 which is incompatible.\n",
            "gcsfs 2025.3.2 requires fsspec==2025.3.2, but you have fsspec 2024.2.0 which is incompatible.\u001b[0m\u001b[31m\n",
            "\u001b[0m"
          ]
        }
      ],
      "source": [
        "!pip install -q transformers\n",
        "!pip uninstall -y datasets\n",
        "!pip install -q --upgrade huggingface_hub\n",
        "!pip install -q datasets==2.18.0"
      ]
    },
    {
      "cell_type": "markdown",
      "metadata": {
        "id": "NmI5qP9lWRea"
      },
      "source": [
        "# 1: Import and Process Data\n",
        "\n"
      ]
    },
    {
      "cell_type": "code",
      "execution_count": 3,
      "metadata": {
        "colab": {
          "base_uri": "https://localhost:8080/"
        },
        "id": "ivooh_2DXZwq",
        "outputId": "5eb848e1-3b2a-46dc-991a-d12dd7fa6607"
      },
      "outputs": [
        {
          "data": {
            "text/plain": [
              "True"
            ]
          },
          "execution_count": 3,
          "metadata": {},
          "output_type": "execute_result"
        }
      ],
      "source": [
        "#Import packages\n",
        "import pandas as pd\n",
        "import numpy as np\n",
        "import datasets\n",
        "from datasets import Dataset\n",
        "from transformers import(\n",
        "    BertTokenizer,\n",
        "    BertForSequenceClassification,\n",
        "    Trainer,\n",
        "    TrainingArguments,\n",
        ")\n",
        "import torch\n",
        "torch.cuda.is_available()\n"
      ]
    },
    {
      "cell_type": "code",
      "execution_count": 4,
      "metadata": {
        "colab": {
          "base_uri": "https://localhost:8080/"
        },
        "id": "SncqyG2CXkpO",
        "outputId": "503c51cc-c7c4-4fe7-813a-b7bb22e17205"
      },
      "outputs": [
        {
          "name": "stdout",
          "output_type": "stream",
          "text": [
            "Mounted at /content/drive\n"
          ]
        }
      ],
      "source": [
        "#Data directory (Change this depending on file location/machine)\n",
        "from google.colab import drive\n",
        "drive = drive.mount('/content/drive')\n",
        "data_dir = 'drive/MyDrive/kaggle_data'"
      ]
    },
    {
      "cell_type": "code",
      "execution_count": 15,
      "metadata": {
        "id": "xIaHhc3zXpUs"
      },
      "outputs": [],
      "source": [
        "#Load data from given train and val data files\n",
        "train_x = pd.read_csv(f\"{data_dir}/train_x.csv\", index_col=0)\n",
        "train_y = pd.read_csv(f\"{data_dir}/train_y.csv\")\n",
        "val_x = pd.read_csv(f\"{data_dir}/val_x.csv\", index_col=0)\n",
        "val_y = pd.read_csv(f\"{data_dir}/val_y.csv\")"
      ]
    },
    {
      "cell_type": "code",
      "execution_count": 16,
      "metadata": {
        "id": "iehakD8EXuhp"
      },
      "outputs": [],
      "source": [
        "#Extract the input string and the binary label, and put it into a dataframe\n",
        "train_df = pd.DataFrame({\n",
        "    \"text\": train_x.iloc[:, 0].astype(str).tolist(),\n",
        "    \"labels\": train_y[\"y\"].astype(int).tolist()\n",
        "})\n",
        "\n",
        "val_df = pd.DataFrame({\n",
        "    \"text\": val_x.iloc[:, 0].astype(str).tolist(),\n",
        "    \"labels\": val_y[\"y\"].astype(int).tolist()\n",
        "})\n",
        "\n",
        "#Convert those dataframes into a huggingface dataset to use for BERT\n",
        "train_ds = Dataset.from_pandas(train_df).shuffle(seed=42).select(range(10_000))\n",
        "val_ds = Dataset.from_pandas(val_df).shuffle(seed=42).select(range(2_000))"
      ]
    },
    {
      "cell_type": "code",
      "execution_count": 17,
      "metadata": {
        "colab": {
          "base_uri": "https://localhost:8080/",
          "height": 81,
          "referenced_widgets": [
            "05ae9ffece1f4091bd5f8f50ae30e41e",
            "1157ebaf20f448189c0945c7e5e0f6f9",
            "89e23c365cc6480a86c873d5b007f592",
            "f78366cd9afe4c4592bfff52e330bc9b",
            "c1028573572244c7a77c52531182d9d1",
            "e2666e0b77264d97b0ce4e8911b2e0e4",
            "49326994ed3f41f1ae3b6aaff170c4ee",
            "6a7a6115601b43d7938e99dc68e39a2a",
            "a21fef1f42d44798b28ca920ba587d45",
            "ee78f8d3ece04a3c81db4a3fac6500ae",
            "ecdaeafa2ef94d29b5442ecdafdbf812",
            "a0426430d7764d989f8a7316dec74350",
            "4216fb6efbe842dfaadbb060dc739b02",
            "2eadcfc0dc2343dd82e3fe65ae79537b",
            "68573b2740bc4094bfe72c26243c0f77",
            "bc95b97bfa9949b99217e417c4b4c242",
            "c1b635e0dccc465d87fbb080edbd58b5",
            "d05ba3160f234400a15b061a9e82b530",
            "04ee1d51708f4077aa2895bda0292fa9",
            "5c56c25cca0d4b64b7283fb2235d3fab",
            "7861cc9a7e924a648129cea581c4a661",
            "7947023ce0614133834ae7d4bac91469"
          ]
        },
        "id": "mgmTnkl7Ydah",
        "outputId": "d575ecbd-9dbc-4c0b-a5cc-5ef891859abd"
      },
      "outputs": [
        {
          "data": {
            "application/vnd.jupyter.widget-view+json": {
              "model_id": "05ae9ffece1f4091bd5f8f50ae30e41e",
              "version_major": 2,
              "version_minor": 0
            },
            "text/plain": [
              "Map:   0%|          | 0/10000 [00:00<?, ? examples/s]"
            ]
          },
          "metadata": {},
          "output_type": "display_data"
        },
        {
          "data": {
            "application/vnd.jupyter.widget-view+json": {
              "model_id": "a0426430d7764d989f8a7316dec74350",
              "version_major": 2,
              "version_minor": 0
            },
            "text/plain": [
              "Map:   0%|          | 0/2000 [00:00<?, ? examples/s]"
            ]
          },
          "metadata": {},
          "output_type": "display_data"
        }
      ],
      "source": [
        "#Use BertTokenizer to tokenize our data to use for BERT model\n",
        "tokenizer = BertTokenizer.from_pretrained(\"bert-base-uncased\")\n",
        "\n",
        "def tokenize_fn(batch):\n",
        "    return tokenizer(batch[\"text\"], padding=\"max_length\", truncation=True)\n",
        "\n",
        "train_ds = train_ds.map(tokenize_fn, batched=True)\n",
        "val_ds = val_ds.map(tokenize_fn, batched=True)\n"
      ]
    },
    {
      "cell_type": "code",
      "execution_count": 18,
      "metadata": {
        "colab": {
          "base_uri": "https://localhost:8080/",
          "height": 81,
          "referenced_widgets": [
            "e9bbffee69424e1d910671fe50faabfe",
            "c609c7266bbd424fad563b9b8b06db46",
            "56cfdc2384df4cb9bd2d2157e19e5e4b",
            "56b0a84bf47048a0b101389f2ac25a89",
            "17d3726134fa4a5591fe1be3f56d6881",
            "fb8fc0aaa78946b79c0bf0b958352329",
            "1788eab21a214a49a8617d858fc986e0",
            "ea1983d2479e4c09a48c15852978e0d4",
            "8891b6c23f474f54ab66829242533910",
            "10f2cf5f9e2b486c993ba7c46a51a0a0",
            "56c975496e0a42ffad0ae286788b8840",
            "592fe28915624605ba456c522b594eed",
            "b43db24e0f3b413998b41c7913d520ad",
            "f8feb4eb7799411da91295f4f2e1240d",
            "2aec09382f274ce19324fe923fd0f6d8",
            "6b5133a84d534e4b88c53c66757fb62d",
            "994ab1e6dcff4270818bc253699dc1be",
            "25d40735954b402ca4999f3a71f070ff",
            "ffd8dfd0a3a3431d903014f54f0438c3",
            "c858757c7c974730880c8d829430697d",
            "586b719a7923473d89cf2142ebfea472",
            "9be92f4065ac43aeba21f075c130e69d"
          ]
        },
        "id": "bS94r0iZYoYj",
        "outputId": "fdb33ce4-38d6-47aa-db09-5c61dd3ddd64"
      },
      "outputs": [
        {
          "data": {
            "application/vnd.jupyter.widget-view+json": {
              "model_id": "e9bbffee69424e1d910671fe50faabfe",
              "version_major": 2,
              "version_minor": 0
            },
            "text/plain": [
              "Casting the dataset:   0%|          | 0/10000 [00:00<?, ? examples/s]"
            ]
          },
          "metadata": {},
          "output_type": "display_data"
        },
        {
          "data": {
            "application/vnd.jupyter.widget-view+json": {
              "model_id": "592fe28915624605ba456c522b594eed",
              "version_major": 2,
              "version_minor": 0
            },
            "text/plain": [
              "Casting the dataset:   0%|          | 0/2000 [00:00<?, ? examples/s]"
            ]
          },
          "metadata": {},
          "output_type": "display_data"
        }
      ],
      "source": [
        "#Format for PyTorch\n",
        "\n",
        "train_ds = train_ds.cast_column(\"labels\", datasets.features.Value(\"float32\"))\n",
        "val_ds = val_ds.cast_column(\"labels\", datasets.features.Value(\"float32\"))\n",
        "\n",
        "# train_ds.set_format(type=\"torch\", columns=[\"input_ids\", \"attention_mask\", \"labels\"])\n",
        "# val_ds.set_format(type=\"torch\", columns=[\"input_ids\", \"attention_mask\", \"labels\"])\n"
      ]
    },
    {
      "cell_type": "markdown",
      "metadata": {
        "id": "5-sFTcI8ZQv3"
      },
      "source": [
        "# Load Model"
      ]
    },
    {
      "cell_type": "code",
      "execution_count": 23,
      "metadata": {
        "colab": {
          "base_uri": "https://localhost:8080/"
        },
        "id": "XWBJ6VKVZT5X",
        "outputId": "89db4528-8cbb-47f6-edd7-4291d9010869"
      },
      "outputs": [
        {
          "name": "stderr",
          "output_type": "stream",
          "text": [
            "Some weights of BertForSequenceClassification were not initialized from the model checkpoint at bert-base-uncased and are newly initialized: ['classifier.bias', 'classifier.weight']\n",
            "You should probably TRAIN this model on a down-stream task to be able to use it for predictions and inference.\n"
          ]
        }
      ],
      "source": [
        "#Load model and set the training arguments\n",
        "model = BertForSequenceClassification.from_pretrained(\"bert-base-uncased\", num_labels=1)\n",
        "\n",
        "training_args = TrainingArguments(\n",
        "    output_dir=\"./bert-toxic\",\n",
        "    logging_dir=\"./logs\",\n",
        "    per_device_train_batch_size=16,\n",
        "    per_device_eval_batch_size=16,\n",
        "    num_train_epochs=3,\n",
        "    save_strategy=\"epoch\",\n",
        "    logging_steps=20,\n",
        "    logging_strategy=\"steps\",\n",
        "    remove_unused_columns=True\n",
        ")\n"
      ]
    },
    {
      "cell_type": "code",
      "execution_count": null,
      "metadata": {
        "id": "QEy-7azd1P0q"
      },
      "outputs": [],
      "source": [
        "import torch.nn.functional as F\n",
        "\n",
        "class GlobalAccuracyTrainer(Trainer):\n",
        "    def compute_loss(self, model, inputs, return_outputs=False, num_items_in_batch=None):\n",
        "        #forward pass through model\n",
        "        labels = inputs.pop(\"labels\")\n",
        "        outputs = model(**inputs)\n",
        "        logits = outputs.logits.squeeze()\n",
        "\n",
        "        #calculate proabability\n",
        "        probs = torch.sigmoid(logits)\n",
        "\n",
        "        #calculate cross entropy loss based on probabilities\n",
        "        bce_loss = F.binary_cross_entropy(probs, labels)\n",
        "\n",
        "        #use soft global accuracy approximation- better for loss than binary classification\n",
        "        diff = torch.abs(probs-labels)\n",
        "        soft_acc = 1.0-diff.mean()\n",
        "\n",
        "        #combine bce loss with global accuracy penalty\n",
        "        alpha = 1.0  # You can tune this weight\n",
        "        loss = bce_loss + alpha * (1.0 - soft_acc)\n",
        "\n",
        "        #log metrics\n",
        "        self.log({\"train/soft_acc\": soft_acc.item()})\n",
        "        self.log({\"train/bce_loss\": bce_loss.item()})\n",
        "        if self.state.global_step%20==0:\n",
        "          print(\"train/soft_acc:\",soft_acc.item(),\"| train/bce_loss:\",bce_loss.item())\n",
        "\n",
        "        return (loss, outputs) if return_outputs else loss\n"
      ]
    },
    {
      "cell_type": "code",
      "execution_count": 25,
      "metadata": {
        "colab": {
          "base_uri": "https://localhost:8080/"
        },
        "id": "gDbt-P8IZehy",
        "outputId": "9336eec7-6836-4203-8e66-7bc80f75618b"
      },
      "outputs": [
        {
          "name": "stderr",
          "output_type": "stream",
          "text": [
            "<ipython-input-25-1996f4e637d0>:4: FutureWarning: `tokenizer` is deprecated and will be removed in version 5.0.0 for `GlobalAccuracyTrainer.__init__`. Use `processing_class` instead.\n",
            "  trainer = GlobalAccuracyTrainer(\n"
          ]
        }
      ],
      "source": [
        "#Set up trainer and train the model\n",
        "from transformers import DataCollatorWithPadding\n",
        "data_collator = DataCollatorWithPadding(tokenizer=tokenizer)\n",
        "trainer = GlobalAccuracyTrainer(\n",
        "    model=model,\n",
        "    args=training_args,\n",
        "    train_dataset=train_ds,\n",
        "    eval_dataset=val_ds,\n",
        "    tokenizer=tokenizer,\n",
        "    data_collator = data_collator\n",
        ")\n"
      ]
    },
    {
      "cell_type": "code",
      "execution_count": 26,
      "metadata": {
        "colab": {
          "base_uri": "https://localhost:8080/",
          "height": 1000
        },
        "id": "62K7IIMpnJeS",
        "outputId": "06e10ef7-304e-4487-b37a-e65b8d6777af"
      },
      "outputs": [
        {
          "name": "stdout",
          "output_type": "stream",
          "text": [
            "train/soft_acc: 0.42110228538513184 | train/bce_loss: 0.8734383583068848\n"
          ]
        },
        {
          "data": {
            "text/html": [
              "\n",
              "    <div>\n",
              "      \n",
              "      <progress value='1875' max='1875' style='width:300px; height:20px; vertical-align: middle;'></progress>\n",
              "      [1875/1875 45:26, Epoch 3/3]\n",
              "    </div>\n",
              "    <table border=\"1\" class=\"dataframe\">\n",
              "  <thead>\n",
              " <tr style=\"text-align: left;\">\n",
              "      <th>Step</th>\n",
              "      <th>Training Loss</th>\n",
              "    </tr>\n",
              "  </thead>\n",
              "  <tbody>\n",
              "    <tr>\n",
              "      <td>20</td>\n",
              "      <td>0.680900</td>\n",
              "    </tr>\n",
              "    <tr>\n",
              "      <td>40</td>\n",
              "      <td>0.545300</td>\n",
              "    </tr>\n",
              "    <tr>\n",
              "      <td>60</td>\n",
              "      <td>0.558700</td>\n",
              "    </tr>\n",
              "    <tr>\n",
              "      <td>80</td>\n",
              "      <td>0.498000</td>\n",
              "    </tr>\n",
              "    <tr>\n",
              "      <td>100</td>\n",
              "      <td>0.507100</td>\n",
              "    </tr>\n",
              "    <tr>\n",
              "      <td>120</td>\n",
              "      <td>0.471400</td>\n",
              "    </tr>\n",
              "    <tr>\n",
              "      <td>140</td>\n",
              "      <td>0.427100</td>\n",
              "    </tr>\n",
              "    <tr>\n",
              "      <td>160</td>\n",
              "      <td>0.426700</td>\n",
              "    </tr>\n",
              "    <tr>\n",
              "      <td>180</td>\n",
              "      <td>0.488800</td>\n",
              "    </tr>\n",
              "    <tr>\n",
              "      <td>200</td>\n",
              "      <td>0.409500</td>\n",
              "    </tr>\n",
              "    <tr>\n",
              "      <td>220</td>\n",
              "      <td>0.457800</td>\n",
              "    </tr>\n",
              "    <tr>\n",
              "      <td>240</td>\n",
              "      <td>0.426000</td>\n",
              "    </tr>\n",
              "    <tr>\n",
              "      <td>260</td>\n",
              "      <td>0.454800</td>\n",
              "    </tr>\n",
              "    <tr>\n",
              "      <td>280</td>\n",
              "      <td>0.380600</td>\n",
              "    </tr>\n",
              "    <tr>\n",
              "      <td>300</td>\n",
              "      <td>0.349600</td>\n",
              "    </tr>\n",
              "    <tr>\n",
              "      <td>320</td>\n",
              "      <td>0.379600</td>\n",
              "    </tr>\n",
              "    <tr>\n",
              "      <td>340</td>\n",
              "      <td>0.410400</td>\n",
              "    </tr>\n",
              "    <tr>\n",
              "      <td>360</td>\n",
              "      <td>0.323300</td>\n",
              "    </tr>\n",
              "    <tr>\n",
              "      <td>380</td>\n",
              "      <td>0.328600</td>\n",
              "    </tr>\n",
              "    <tr>\n",
              "      <td>400</td>\n",
              "      <td>0.381200</td>\n",
              "    </tr>\n",
              "    <tr>\n",
              "      <td>420</td>\n",
              "      <td>0.475900</td>\n",
              "    </tr>\n",
              "    <tr>\n",
              "      <td>440</td>\n",
              "      <td>0.409300</td>\n",
              "    </tr>\n",
              "    <tr>\n",
              "      <td>460</td>\n",
              "      <td>0.369800</td>\n",
              "    </tr>\n",
              "    <tr>\n",
              "      <td>480</td>\n",
              "      <td>0.459700</td>\n",
              "    </tr>\n",
              "    <tr>\n",
              "      <td>500</td>\n",
              "      <td>0.412900</td>\n",
              "    </tr>\n",
              "    <tr>\n",
              "      <td>520</td>\n",
              "      <td>0.371700</td>\n",
              "    </tr>\n",
              "    <tr>\n",
              "      <td>540</td>\n",
              "      <td>0.344300</td>\n",
              "    </tr>\n",
              "    <tr>\n",
              "      <td>560</td>\n",
              "      <td>0.433300</td>\n",
              "    </tr>\n",
              "    <tr>\n",
              "      <td>580</td>\n",
              "      <td>0.311700</td>\n",
              "    </tr>\n",
              "    <tr>\n",
              "      <td>600</td>\n",
              "      <td>0.388400</td>\n",
              "    </tr>\n",
              "    <tr>\n",
              "      <td>620</td>\n",
              "      <td>0.389000</td>\n",
              "    </tr>\n",
              "    <tr>\n",
              "      <td>640</td>\n",
              "      <td>0.332100</td>\n",
              "    </tr>\n",
              "    <tr>\n",
              "      <td>660</td>\n",
              "      <td>0.232800</td>\n",
              "    </tr>\n",
              "    <tr>\n",
              "      <td>680</td>\n",
              "      <td>0.230500</td>\n",
              "    </tr>\n",
              "    <tr>\n",
              "      <td>700</td>\n",
              "      <td>0.274200</td>\n",
              "    </tr>\n",
              "    <tr>\n",
              "      <td>720</td>\n",
              "      <td>0.257000</td>\n",
              "    </tr>\n",
              "    <tr>\n",
              "      <td>740</td>\n",
              "      <td>0.236700</td>\n",
              "    </tr>\n",
              "    <tr>\n",
              "      <td>760</td>\n",
              "      <td>0.241500</td>\n",
              "    </tr>\n",
              "    <tr>\n",
              "      <td>780</td>\n",
              "      <td>0.279200</td>\n",
              "    </tr>\n",
              "    <tr>\n",
              "      <td>800</td>\n",
              "      <td>0.246400</td>\n",
              "    </tr>\n",
              "    <tr>\n",
              "      <td>820</td>\n",
              "      <td>0.237800</td>\n",
              "    </tr>\n",
              "    <tr>\n",
              "      <td>840</td>\n",
              "      <td>0.326400</td>\n",
              "    </tr>\n",
              "    <tr>\n",
              "      <td>860</td>\n",
              "      <td>0.358700</td>\n",
              "    </tr>\n",
              "    <tr>\n",
              "      <td>880</td>\n",
              "      <td>0.231300</td>\n",
              "    </tr>\n",
              "    <tr>\n",
              "      <td>900</td>\n",
              "      <td>0.244100</td>\n",
              "    </tr>\n",
              "    <tr>\n",
              "      <td>920</td>\n",
              "      <td>0.167100</td>\n",
              "    </tr>\n",
              "    <tr>\n",
              "      <td>940</td>\n",
              "      <td>0.315700</td>\n",
              "    </tr>\n",
              "    <tr>\n",
              "      <td>960</td>\n",
              "      <td>0.290900</td>\n",
              "    </tr>\n",
              "    <tr>\n",
              "      <td>980</td>\n",
              "      <td>0.262700</td>\n",
              "    </tr>\n",
              "    <tr>\n",
              "      <td>1000</td>\n",
              "      <td>0.177600</td>\n",
              "    </tr>\n",
              "    <tr>\n",
              "      <td>1020</td>\n",
              "      <td>0.232900</td>\n",
              "    </tr>\n",
              "    <tr>\n",
              "      <td>1040</td>\n",
              "      <td>0.255700</td>\n",
              "    </tr>\n",
              "    <tr>\n",
              "      <td>1060</td>\n",
              "      <td>0.280300</td>\n",
              "    </tr>\n",
              "    <tr>\n",
              "      <td>1080</td>\n",
              "      <td>0.305700</td>\n",
              "    </tr>\n",
              "    <tr>\n",
              "      <td>1100</td>\n",
              "      <td>0.233600</td>\n",
              "    </tr>\n",
              "    <tr>\n",
              "      <td>1120</td>\n",
              "      <td>0.250400</td>\n",
              "    </tr>\n",
              "    <tr>\n",
              "      <td>1140</td>\n",
              "      <td>0.279500</td>\n",
              "    </tr>\n",
              "    <tr>\n",
              "      <td>1160</td>\n",
              "      <td>0.345900</td>\n",
              "    </tr>\n",
              "    <tr>\n",
              "      <td>1180</td>\n",
              "      <td>0.248100</td>\n",
              "    </tr>\n",
              "    <tr>\n",
              "      <td>1200</td>\n",
              "      <td>0.242600</td>\n",
              "    </tr>\n",
              "    <tr>\n",
              "      <td>1220</td>\n",
              "      <td>0.235000</td>\n",
              "    </tr>\n",
              "    <tr>\n",
              "      <td>1240</td>\n",
              "      <td>0.233800</td>\n",
              "    </tr>\n",
              "    <tr>\n",
              "      <td>1260</td>\n",
              "      <td>0.127400</td>\n",
              "    </tr>\n",
              "    <tr>\n",
              "      <td>1280</td>\n",
              "      <td>0.147700</td>\n",
              "    </tr>\n",
              "    <tr>\n",
              "      <td>1300</td>\n",
              "      <td>0.114600</td>\n",
              "    </tr>\n",
              "    <tr>\n",
              "      <td>1320</td>\n",
              "      <td>0.182600</td>\n",
              "    </tr>\n",
              "    <tr>\n",
              "      <td>1340</td>\n",
              "      <td>0.139700</td>\n",
              "    </tr>\n",
              "    <tr>\n",
              "      <td>1360</td>\n",
              "      <td>0.094300</td>\n",
              "    </tr>\n",
              "    <tr>\n",
              "      <td>1380</td>\n",
              "      <td>0.090600</td>\n",
              "    </tr>\n",
              "    <tr>\n",
              "      <td>1400</td>\n",
              "      <td>0.159900</td>\n",
              "    </tr>\n",
              "    <tr>\n",
              "      <td>1420</td>\n",
              "      <td>0.185100</td>\n",
              "    </tr>\n",
              "    <tr>\n",
              "      <td>1440</td>\n",
              "      <td>0.195100</td>\n",
              "    </tr>\n",
              "    <tr>\n",
              "      <td>1460</td>\n",
              "      <td>0.128200</td>\n",
              "    </tr>\n",
              "    <tr>\n",
              "      <td>1480</td>\n",
              "      <td>0.176800</td>\n",
              "    </tr>\n",
              "    <tr>\n",
              "      <td>1500</td>\n",
              "      <td>0.145700</td>\n",
              "    </tr>\n",
              "    <tr>\n",
              "      <td>1520</td>\n",
              "      <td>0.253300</td>\n",
              "    </tr>\n",
              "    <tr>\n",
              "      <td>1540</td>\n",
              "      <td>0.081900</td>\n",
              "    </tr>\n",
              "    <tr>\n",
              "      <td>1560</td>\n",
              "      <td>0.136200</td>\n",
              "    </tr>\n",
              "    <tr>\n",
              "      <td>1580</td>\n",
              "      <td>0.123400</td>\n",
              "    </tr>\n",
              "    <tr>\n",
              "      <td>1600</td>\n",
              "      <td>0.125400</td>\n",
              "    </tr>\n",
              "    <tr>\n",
              "      <td>1620</td>\n",
              "      <td>0.244200</td>\n",
              "    </tr>\n",
              "    <tr>\n",
              "      <td>1640</td>\n",
              "      <td>0.054300</td>\n",
              "    </tr>\n",
              "    <tr>\n",
              "      <td>1660</td>\n",
              "      <td>0.092800</td>\n",
              "    </tr>\n",
              "    <tr>\n",
              "      <td>1680</td>\n",
              "      <td>0.180700</td>\n",
              "    </tr>\n",
              "    <tr>\n",
              "      <td>1700</td>\n",
              "      <td>0.183300</td>\n",
              "    </tr>\n",
              "    <tr>\n",
              "      <td>1720</td>\n",
              "      <td>0.175100</td>\n",
              "    </tr>\n",
              "    <tr>\n",
              "      <td>1740</td>\n",
              "      <td>0.155900</td>\n",
              "    </tr>\n",
              "    <tr>\n",
              "      <td>1760</td>\n",
              "      <td>0.071500</td>\n",
              "    </tr>\n",
              "    <tr>\n",
              "      <td>1780</td>\n",
              "      <td>0.072800</td>\n",
              "    </tr>\n",
              "    <tr>\n",
              "      <td>1800</td>\n",
              "      <td>0.160600</td>\n",
              "    </tr>\n",
              "    <tr>\n",
              "      <td>1820</td>\n",
              "      <td>0.162300</td>\n",
              "    </tr>\n",
              "    <tr>\n",
              "      <td>1840</td>\n",
              "      <td>0.118000</td>\n",
              "    </tr>\n",
              "    <tr>\n",
              "      <td>1860</td>\n",
              "      <td>0.108300</td>\n",
              "    </tr>\n",
              "  </tbody>\n",
              "</table><p>"
            ],
            "text/plain": [
              "<IPython.core.display.HTML object>"
            ]
          },
          "metadata": {},
          "output_type": "display_data"
        },
        {
          "name": "stdout",
          "output_type": "stream",
          "text": [
            "train/soft_acc: 0.9274695515632629 | train/bce_loss: 0.07534871995449066\n",
            "train/soft_acc: 0.7199531197547913 | train/bce_loss: 0.7682434916496277\n",
            "train/soft_acc: 0.9393765330314636 | train/bce_loss: 0.06261419504880905\n",
            "train/soft_acc: 0.8581726551055908 | train/bce_loss: 0.25592702627182007\n",
            "train/soft_acc: 0.9252902865409851 | train/bce_loss: 0.22748586535453796\n",
            "train/soft_acc: 0.8659771680831909 | train/bce_loss: 0.24746142327785492\n",
            "train/soft_acc: 0.8755388855934143 | train/bce_loss: 0.16820809245109558\n",
            "train/soft_acc: 0.8617928624153137 | train/bce_loss: 0.4291311204433441\n",
            "train/soft_acc: 0.7367042303085327 | train/bce_loss: 0.8869678378105164\n",
            "train/soft_acc: 0.9275709986686707 | train/bce_loss: 0.2987723648548126\n",
            "train/soft_acc: 0.8923767805099487 | train/bce_loss: 0.24751964211463928\n",
            "train/soft_acc: 0.9460411071777344 | train/bce_loss: 0.05978821963071823\n",
            "train/soft_acc: 0.9267709851264954 | train/bce_loss: 0.09973948448896408\n",
            "train/soft_acc: 0.8766023516654968 | train/bce_loss: 0.20086582005023956\n",
            "train/soft_acc: 0.9257150888442993 | train/bce_loss: 0.11365576833486557\n",
            "train/soft_acc: 0.8707060813903809 | train/bce_loss: 0.2983769178390503\n",
            "train/soft_acc: 0.9048004150390625 | train/bce_loss: 0.2219184935092926\n",
            "train/soft_acc: 0.9310391545295715 | train/bce_loss: 0.19091930985450745\n",
            "train/soft_acc: 0.7333388328552246 | train/bce_loss: 0.6924533247947693\n",
            "train/soft_acc: 0.873014509677887 | train/bce_loss: 0.2772863507270813\n",
            "train/soft_acc: 0.8506787419319153 | train/bce_loss: 0.3096045255661011\n",
            "train/soft_acc: 0.8364464044570923 | train/bce_loss: 0.28831610083580017\n",
            "train/soft_acc: 0.8618065714836121 | train/bce_loss: 0.38974475860595703\n",
            "train/soft_acc: 0.8598996996879578 | train/bce_loss: 0.18475204706192017\n",
            "train/soft_acc: 0.8228490948677063 | train/bce_loss: 0.5070546865463257\n",
            "train/soft_acc: 0.9356575012207031 | train/bce_loss: 0.09850886464118958\n",
            "train/soft_acc: 0.7776855230331421 | train/bce_loss: 0.534764289855957\n",
            "train/soft_acc: 0.8964853882789612 | train/bce_loss: 0.16635780036449432\n",
            "train/soft_acc: 0.8250645399093628 | train/bce_loss: 0.4549197852611542\n",
            "train/soft_acc: 0.959387481212616 | train/bce_loss: 0.0452289953827858\n",
            "train/soft_acc: 0.9034156203269958 | train/bce_loss: 0.1865992695093155\n",
            "train/soft_acc: 0.9834611415863037 | train/bce_loss: 0.0170943234115839\n",
            "train/soft_acc: 0.9010470509529114 | train/bce_loss: 0.37212032079696655\n",
            "train/soft_acc: 0.9293333888053894 | train/bce_loss: 0.3027759790420532\n",
            "train/soft_acc: 0.8114548921585083 | train/bce_loss: 0.65406733751297\n",
            "train/soft_acc: 0.9136818647384644 | train/bce_loss: 0.20504380762577057\n",
            "train/soft_acc: 0.9346961975097656 | train/bce_loss: 0.19526343047618866\n",
            "train/soft_acc: 0.9332374334335327 | train/bce_loss: 0.2077283263206482\n",
            "train/soft_acc: 0.9201396107673645 | train/bce_loss: 0.1648762971162796\n",
            "train/soft_acc: 0.7727611064910889 | train/bce_loss: 0.6111916303634644\n",
            "train/soft_acc: 0.9202972054481506 | train/bce_loss: 0.4086671769618988\n",
            "train/soft_acc: 0.8845546245574951 | train/bce_loss: 0.2114565223455429\n",
            "train/soft_acc: 0.9261433482170105 | train/bce_loss: 0.384213924407959\n",
            "train/soft_acc: 0.9326278567314148 | train/bce_loss: 0.33085671067237854\n",
            "train/soft_acc: 0.9945078492164612 | train/bce_loss: 0.005510356277227402\n",
            "train/soft_acc: 0.9652131795883179 | train/bce_loss: 0.04117453098297119\n",
            "train/soft_acc: 0.8345041275024414 | train/bce_loss: 0.5355697870254517\n",
            "train/soft_acc: 0.8909975290298462 | train/bce_loss: 0.21223270893096924\n",
            "train/soft_acc: 0.9325917363166809 | train/bce_loss: 0.1319313943386078\n",
            "train/soft_acc: 0.9265463352203369 | train/bce_loss: 0.16680656373500824\n",
            "train/soft_acc: 0.7749776244163513 | train/bce_loss: 0.49766021966934204\n",
            "train/soft_acc: 0.9387621879577637 | train/bce_loss: 0.14092576503753662\n",
            "train/soft_acc: 0.9286035299301147 | train/bce_loss: 0.18050186336040497\n",
            "train/soft_acc: 0.9932844042778015 | train/bce_loss: 0.006822801195085049\n",
            "train/soft_acc: 0.981610119342804 | train/bce_loss: 0.019571024924516678\n",
            "train/soft_acc: 0.990525484085083 | train/bce_loss: 0.009838663041591644\n",
            "train/soft_acc: 0.9889333248138428 | train/bce_loss: 0.01126970537006855\n",
            "train/soft_acc: 0.9680447578430176 | train/bce_loss: 0.03791596367955208\n",
            "train/soft_acc: 0.8744875192642212 | train/bce_loss: 0.35984858870506287\n",
            "train/soft_acc: 0.901912271976471 | train/bce_loss: 0.1718924641609192\n",
            "train/soft_acc: 0.8907188177108765 | train/bce_loss: 0.31001266837120056\n",
            "train/soft_acc: 0.9947168827056885 | train/bce_loss: 0.005331416614353657\n",
            "train/soft_acc: 0.9971928596496582 | train/bce_loss: 0.0028300336562097073\n",
            "train/soft_acc: 0.8166211843490601 | train/bce_loss: 0.7624865770339966\n",
            "train/soft_acc: 0.9971165657043457 | train/bce_loss: 0.002898762933909893\n",
            "train/soft_acc: 0.9366269111633301 | train/bce_loss: 0.15941841900348663\n",
            "train/soft_acc: 0.9929680824279785 | train/bce_loss: 0.007117157801985741\n",
            "train/soft_acc: 0.8527103066444397 | train/bce_loss: 0.3396680951118469\n",
            "train/soft_acc: 0.9990819692611694 | train/bce_loss: 0.0009187660180032253\n",
            "train/soft_acc: 0.9986451864242554 | train/bce_loss: 0.0013604003470391035\n",
            "train/soft_acc: 0.9051293730735779 | train/bce_loss: 0.29512059688568115\n",
            "train/soft_acc: 0.985775351524353 | train/bce_loss: 0.015650831162929535\n",
            "train/soft_acc: 0.9965204000473022 | train/bce_loss: 0.0035154554061591625\n",
            "train/soft_acc: 0.9985781908035278 | train/bce_loss: 0.001423159847036004\n",
            "train/soft_acc: 0.9385995268821716 | train/bce_loss: 0.19238018989562988\n",
            "train/soft_acc: 0.8545359969139099 | train/bce_loss: 0.38738781213760376\n",
            "train/soft_acc: 0.9167104363441467 | train/bce_loss: 0.252197802066803\n",
            "train/soft_acc: 0.9850675463676453 | train/bce_loss: 0.01629267819225788\n",
            "train/soft_acc: 0.9979296326637268 | train/bce_loss: 0.0020741268526762724\n",
            "train/soft_acc: 0.939643144607544 | train/bce_loss: 0.16043075919151306\n",
            "train/soft_acc: 0.9540022611618042 | train/bce_loss: 0.06974925100803375\n",
            "train/soft_acc: 0.9947754740715027 | train/bce_loss: 0.005253736861050129\n",
            "train/soft_acc: 0.899381697177887 | train/bce_loss: 0.3167855739593506\n",
            "train/soft_acc: 0.996994137763977 | train/bce_loss: 0.0030288989655673504\n",
            "train/soft_acc: 0.9991051554679871 | train/bce_loss: 0.0008952938951551914\n",
            "train/soft_acc: 0.9198240637779236 | train/bce_loss: 0.2788759469985962\n",
            "train/soft_acc: 0.9987106919288635 | train/bce_loss: 0.0012904651230201125\n",
            "train/soft_acc: 0.8275167942047119 | train/bce_loss: 0.6145732998847961\n",
            "train/soft_acc: 0.996914803981781 | train/bce_loss: 0.0031018564477562904\n",
            "train/soft_acc: 0.9955030679702759 | train/bce_loss: 0.0045494926162064075\n",
            "train/soft_acc: 0.9554495811462402 | train/bce_loss: 0.0753520131111145\n",
            "train/soft_acc: 0.9347301721572876 | train/bce_loss: 0.2749738395214081\n",
            "train/soft_acc: 0.9987049698829651 | train/bce_loss: 0.0012978685554116964\n"
          ]
        },
        {
          "data": {
            "text/plain": [
              "TrainOutput(global_step=1875, training_loss=0.27562375316619875, metrics={'train_runtime': 2729.7464, 'train_samples_per_second': 10.99, 'train_steps_per_second': 0.687, 'total_flos': 7893260789760000.0, 'train_loss': 0.27562375316619875, 'epoch': 3.0})"
            ]
          },
          "execution_count": 26,
          "metadata": {},
          "output_type": "execute_result"
        }
      ],
      "source": [
        "trainer.train()\n"
      ]
    },
    {
      "cell_type": "code",
      "execution_count": 30,
      "metadata": {
        "colab": {
          "base_uri": "https://localhost:8080/",
          "height": 124
        },
        "id": "DrJCbloXyEq5",
        "outputId": "50b3ae56-ead9-45fa-991e-49741c4700dc"
      },
      "outputs": [
        {
          "data": {
            "text/html": [
              "\n",
              "    <div>\n",
              "      \n",
              "      <progress value='125' max='125' style='width:300px; height:20px; vertical-align: middle;'></progress>\n",
              "      [125/125 00:58]\n",
              "    </div>\n",
              "    "
            ],
            "text/plain": [
              "<IPython.core.display.HTML object>"
            ]
          },
          "metadata": {},
          "output_type": "display_data"
        },
        {
          "data": {
            "text/plain": [
              "{'eval_loss': 0.45858070254325867,\n",
              " 'eval_runtime': 59.5357,\n",
              " 'eval_samples_per_second': 33.593,\n",
              " 'eval_steps_per_second': 2.1,\n",
              " 'epoch': 3.0}"
            ]
          },
          "execution_count": 30,
          "metadata": {},
          "output_type": "execute_result"
        }
      ],
      "source": [
        "trainer.evaluate()"
      ]
    },
    {
      "cell_type": "code",
      "execution_count": 31,
      "metadata": {
        "colab": {
          "base_uri": "https://localhost:8080/",
          "height": 17
        },
        "id": "k4dfb6AwZjII",
        "outputId": "57592c7b-2652-49ab-b4c3-f10e47fcefd9"
      },
      "outputs": [
        {
          "data": {
            "text/html": [],
            "text/plain": [
              "<IPython.core.display.HTML object>"
            ]
          },
          "metadata": {},
          "output_type": "display_data"
        }
      ],
      "source": [
        "#Get predictions for fairness analysis\n",
        "pred_output = trainer.predict(val_ds)\n",
        "logits = pred_output.predictions\n",
        "labels = pred_output.label_ids\n"
      ]
    },
    {
      "cell_type": "code",
      "execution_count": 32,
      "metadata": {
        "colab": {
          "base_uri": "https://localhost:8080/"
        },
        "id": "KKw9KbowAjrJ",
        "outputId": "cb102157-179d-4301-fc92-6ee0fe660fe5"
      },
      "outputs": [
        {
          "name": "stdout",
          "output_type": "stream",
          "text": [
            "[0.9981177]\n",
            "Accuracy: 0.9110\n",
            "F1 Macro: 0.7581\n"
          ]
        }
      ],
      "source": [
        "from sklearn.metrics import f1_score, accuracy_score\n",
        "probs = torch.sigmoid(torch.tensor(logits)).numpy()\n",
        "print(max(probs))\n",
        "preds = (probs > .5).astype(int).flatten()\n",
        "\n",
        "acc = accuracy_score(labels,preds)\n",
        "f1 = f1_score(labels,preds,average=\"macro\")\n",
        "\n",
        "print(f\"Accuracy: {acc:.4f}\")\n",
        "print(f\"F1 Macro: {f1:.4f}\")"
      ]
    },
    {
      "cell_type": "code",
      "execution_count": 33,
      "metadata": {
        "colab": {
          "base_uri": "https://localhost:8080/",
          "height": 472
        },
        "id": "0oAWGppJBzoO",
        "outputId": "11ffdffb-4f1a-4fb1-c84b-6b44dc96648c"
      },
      "outputs": [
        {
          "data": {
            "image/png": "[encoded data removed]",
            "text/plain": [
              "<Figure size 640x480 with 1 Axes>"
            ]
          },
          "metadata": {},
          "output_type": "display_data"
        }
      ],
      "source": [
        "import matplotlib.pyplot as plt\n",
        "\n",
        "plt.hist(probs, bins=50)\n",
        "plt.title(\"Distribution of predicted probabilities\")\n",
        "plt.xlabel(\"Probability\")\n",
        "plt.ylabel(\"Count\")\n",
        "plt.show()\n"
      ]
    },
    {
      "cell_type": "markdown",
      "metadata": {
        "id": "55jfMLODC3Fx"
      },
      "source": [
        "The distribution suggests a divided split where the probabilities are almost all 0 or 1 without much in between. This suggests potential overfitting, but the acuraccy is high."
      ]
    },
    {
      "cell_type": "markdown",
      "metadata": {
        "id": "6dazDfCYDbNR"
      },
      "source": [
        "Additionally, the primary goal of the experiment is to see if WGA can help prevent false positives, so we want to evaluate: \\\\\n",
        "1: how many toxic comments got through this detector? \\\\\n",
        "2: how many flagged comments are false positives?"
      ]
    },
    {
      "cell_type": "markdown",
      "metadata": {
        "id": "uw0570NZETcj"
      },
      "source": [
        "### Undetected toxic comment evaluation:\n"
      ]
    },
    {
      "cell_type": "code",
      "execution_count": 36,
      "metadata": {
        "colab": {
          "base_uri": "https://localhost:8080/"
        },
        "id": "fEyIXa3BDvu1",
        "outputId": "9a043f2a-c30f-4408-b90c-77e06b794c2b"
      },
      "outputs": [
        {
          "name": "stdout",
          "output_type": "stream",
          "text": [
            "Accuracy (prob < 0.5): 0.9488\n",
            "F1 score (prob < 0.5): 0.4869\n"
          ]
        }
      ],
      "source": [
        "confidence_mask = probs.flatten() < 0.5\n",
        "filtered_preds = (probs[confidence_mask] > 0.5)\n",
        "filtered_labels = labels[confidence_mask]\n",
        "\n",
        "filtered_acc = accuracy_score(filtered_labels, filtered_preds)\n",
        "filtered_f1 = f1_score(filtered_labels, filtered_preds, average=\"macro\")\n",
        "print(f\"Accuracy (prob < 0.5): {filtered_acc:.4f}\")\n",
        "print(f\"F1 score (prob < 0.5): {filtered_f1:.4f}\")\n"
      ]
    },
    {
      "cell_type": "markdown",
      "metadata": {
        "id": "CLCsCMwdFvym"
      },
      "source": [
        "### False positive evaluation:"
      ]
    },
    {
      "cell_type": "code",
      "execution_count": 37,
      "metadata": {
        "colab": {
          "base_uri": "https://localhost:8080/"
        },
        "id": "KOUUuYkFEf6Q",
        "outputId": "93ff4f64-4f41-4c26-8515-4d018a2a143e"
      },
      "outputs": [
        {
          "name": "stdout",
          "output_type": "stream",
          "text": [
            "Accuracy (prob > 0.5): 0.5743\n",
            "F1 score (prob > 0.5): 0.3648\n"
          ]
        }
      ],
      "source": [
        "confidence_mask = probs.flatten() > 0.5\n",
        "filtered_preds = (probs[confidence_mask] > 0.5)\n",
        "filtered_labels = labels[confidence_mask]\n",
        "\n",
        "filtered_acc = accuracy_score(filtered_labels, filtered_preds)\n",
        "filtered_f1 = f1_score(filtered_labels, filtered_preds, average=\"macro\")\n",
        "print(f\"Accuracy (prob > 0.5): {filtered_acc:.4f}\")\n",
        "print(f\"F1 score (prob > 0.5): {filtered_f1:.4f}\")\n"
      ]
    },
    {
      "cell_type": "markdown",
      "metadata": {
        "id": "6iSA27YFFbT9"
      },
      "source": [
        "We can see that the predictions that were high probability of being toxic had an accuracy of about 0.57, which means that there were many false positives in the flagged comments. Not many toxic comments were able to go undetected though."
      ]
    },
    {
      "cell_type": "markdown",
      "metadata": {
        "id": "jPjyciyVGZfh"
      },
      "source": [
        "Sample:"
      ]
    },
    {
      "cell_type": "code",
      "execution_count": 40,
      "metadata": {
        "colab": {
          "base_uri": "https://localhost:8080/"
        },
        "id": "S7gx7YiXGBIp",
        "outputId": "ba1a42b8-2604-4816-c079-4a6a72db7b6e"
      },
      "outputs": [
        {
          "name": "stdout",
          "output_type": "stream",
          "text": [
            "\n",
            "Sample 47\n",
            "Text: So you're the white guy that can call black guys the n word because you have a black friend.\n",
            "Prob: [0.99181646]\n",
            "True Label: 0.0\n",
            "Binary Prediction: 1\n",
            "\n",
            "Sample 61\n",
            "Text: white media??????? what are you on about? any criticism is in your eyes, racist. that excuse died 100 years ago.\n",
            "Prob: [0.09330044]\n",
            "True Label: 1.0\n",
            "Binary Prediction: 0\n",
            "\n",
            "Sample 67\n",
            "Text: The Trump voters remind me of the \"good Germans\" too. They would be happy if the rest of us that didn't vote for Trump would just disappear. They would never ask where we disappeared to. The GOP is just a white identity party in the 21st century. They have been endorsed by white supremacists from coast to coast and border to border. They all may not be white racists, however they are all sympathizers with white supremacists.\n",
            "Prob: [0.0225666]\n",
            "True Label: 0.0\n",
            "Binary Prediction: 0\n",
            "\n",
            "Sample 78\n",
            "Text: No, Arpaio was found guilty of unConstitutional acts.\n",
            "\n",
            "Your lame attempt to make it something else is disgustingly wrong both, in substance and it's immoral to boot.\n",
            "\n",
            "Your weak attempt to apologize for the white supremacist racists is only one of many earlier failed attempts.  Each of them is deplorable and disgusting.\n",
            "Prob: [0.9829459]\n",
            "True Label: 0.0\n",
            "Binary Prediction: 1\n",
            "\n",
            "Sample 99\n",
            "Text: is this news??? put it in the ads section. and who cares about who got promoted.  really, who give a rats ass about these peoples new jobs.  what about naming the person that got promoted to supervisor on the construction site, or at the trash dump, or at mcdonalds.  i had a nephew that got promoted from drive thru at burger king and now is training supervisor ahahahahahhahha serious though, i could care less about these people, why do you keep putting this crap in your newspaper.  is it because you have to kiss someones ass.  its just like in the sports section on where the kids are playing in college, majority are punahou alums. does the SA sports writers keep checking all on these kids in college playing sports or are all these reported by their publicity seeking parents.  I vote these parents are emailing or calling in about to report how wonderful their child is doing in their college sport.  bingo\n",
            "Prob: [0.986691]\n",
            "True Label: 1.0\n",
            "Binary Prediction: 1\n"
          ]
        },
        {
          "name": "stderr",
          "output_type": "stream",
          "text": [
            "<ipython-input-40-2881c8c5a5b5>:11: DeprecationWarning: Conversion of an array with ndim > 0 to a scalar is deprecated, and will error in future. Ensure you extract a single element from your array before performing this operation. (Deprecated NumPy 1.25.)\n",
            "  print(\"Binary Prediction:\", int(probs[i] > 0.5))\n"
          ]
        }
      ],
      "source": [
        "import pandas as pd\n",
        "val_ds_output = Dataset.from_pandas(val_df).shuffle(seed=42).select(range(2_000))\n",
        "\n",
        "# Choose indices you want to examine\n",
        "indices = [47,61,67,78,99]\n",
        "for i in indices:\n",
        "    print(f\"\\nSample {i}\")\n",
        "    print(\"Text:\", val_ds_output[\"text\"][i])\n",
        "    print(\"Prob:\", probs[i])\n",
        "    print(\"True Label:\", labels[i])\n",
        "    print(\"Binary Prediction:\", int(probs[i] > 0.5))\n"
      ]
    }
  ],
  "metadata": {
    "accelerator": "GPU",
    "colab": {
      "gpuType": "T4",
      "provenance": []
    },
    "kernelspec": {
      "display_name": "Python 3",
      "name": "python3"
    },
    "language_info": {
      "name": "python"
    },
    "widgets": {
      "application/vnd.jupyter.widget-state+json": {
        "04ee1d51708f4077aa2895bda0292fa9": {
          "model_module": "@jupyter-widgets/base",
          "model_module_version": "1.2.0",
          "model_name": "LayoutModel",
          "state": {
            "_model_module": "@jupyter-widgets/base",
            "_model_module_version": "1.2.0",
            "_model_name": "LayoutModel",
            "_view_count": null,
            "_view_module": "@jupyter-widgets/base",
            "_view_module_version": "1.2.0",
            "_view_name": "LayoutView",
            "align_content": null,
            "align_items": null,
            "align_self": null,
            "border": null,
            "bottom": null,
            "display": null,
            "flex": null,
            "flex_flow": null,
            "grid_area": null,
            "grid_auto_columns": null,
            "grid_auto_flow": null,
            "grid_auto_rows": null,
            "grid_column": null,
            "grid_gap": null,
            "grid_row": null,
            "grid_template_areas": null,
            "grid_template_columns": null,
            "grid_template_rows": null,
            "height": null,
            "justify_content": null,
            "justify_items": null,
            "left": null,
            "margin": null,
            "max_height": null,
            "max_width": null,
            "min_height": null,
            "min_width": null,
            "object_fit": null,
            "object_position": null,
            "order": null,
            "overflow": null,
            "overflow_x": null,
            "overflow_y": null,
            "padding": null,
            "right": null,
            "top": null,
            "visibility": null,
            "width": null
          }
        },
        "05ae9ffece1f4091bd5f8f50ae30e41e": {
          "model_module": "@jupyter-widgets/controls",
          "model_module_version": "1.5.0",
          "model_name": "HBoxModel",
          "state": {
            "_dom_classes": [],
            "_model_module": "@jupyter-widgets/controls",
            "_model_module_version": "1.5.0",
            "_model_name": "HBoxModel",
            "_view_count": null,
            "_view_module": "@jupyter-widgets/controls",
            "_view_module_version": "1.5.0",
            "_view_name": "HBoxView",
            "box_style": "",
            "children": [
              "IPY_MODEL_1157ebaf20f448189c0945c7e5e0f6f9",
              "IPY_MODEL_89e23c365cc6480a86c873d5b007f592",
              "IPY_MODEL_f78366cd9afe4c4592bfff52e330bc9b"
            ],
            "layout": "IPY_MODEL_c1028573572244c7a77c52531182d9d1"
          }
        },
        "10f2cf5f9e2b486c993ba7c46a51a0a0": {
          "model_module": "@jupyter-widgets/base",
          "model_module_version": "1.2.0",
          "model_name": "LayoutModel",
          "state": {
            "_model_module": "@jupyter-widgets/base",
            "_model_module_version": "1.2.0",
            "_model_name": "LayoutModel",
            "_view_count": null,
            "_view_module": "@jupyter-widgets/base",
            "_view_module_version": "1.2.0",
            "_view_name": "LayoutView",
            "align_content": null,
            "align_items": null,
            "align_self": null,
            "border": null,
            "bottom": null,
            "display": null,
            "flex": null,
            "flex_flow": null,
            "grid_area": null,
            "grid_auto_columns": null,
            "grid_auto_flow": null,
            "grid_auto_rows": null,
            "grid_column": null,
            "grid_gap": null,
            "grid_row": null,
            "grid_template_areas": null,
            "grid_template_columns": null,
            "grid_template_rows": null,
            "height": null,
            "justify_content": null,
            "justify_items": null,
            "left": null,
            "margin": null,
            "max_height": null,
            "max_width": null,
            "min_height": null,
            "min_width": null,
            "object_fit": null,
            "object_position": null,
            "order": null,
            "overflow": null,
            "overflow_x": null,
            "overflow_y": null,
            "padding": null,
            "right": null,
            "top": null,
            "visibility": null,
            "width": null
          }
        },
        "1157ebaf20f448189c0945c7e5e0f6f9": {
          "model_module": "@jupyter-widgets/controls",
          "model_module_version": "1.5.0",
          "model_name": "HTMLModel",
          "state": {
            "_dom_classes": [],
            "_model_module": "@jupyter-widgets/controls",
            "_model_module_version": "1.5.0",
            "_model_name": "HTMLModel",
            "_view_count": null,
            "_view_module": "@jupyter-widgets/controls",
            "_view_module_version": "1.5.0",
            "_view_name": "HTMLView",
            "description": "",
            "description_tooltip": null,
            "layout": "IPY_MODEL_e2666e0b77264d97b0ce4e8911b2e0e4",
            "placeholder": "​",
            "style": "IPY_MODEL_49326994ed3f41f1ae3b6aaff170c4ee",
            "value": "Map: 100%"
          }
        },
        "1788eab21a214a49a8617d858fc986e0": {
          "model_module": "@jupyter-widgets/controls",
          "model_module_version": "1.5.0",
          "model_name": "DescriptionStyleModel",
          "state": {
            "_model_module": "@jupyter-widgets/controls",
            "_model_module_version": "1.5.0",
            "_model_name": "DescriptionStyleModel",
            "_view_count": null,
            "_view_module": "@jupyter-widgets/base",
            "_view_module_version": "1.2.0",
            "_view_name": "StyleView",
            "description_width": ""
          }
        },
        "17d3726134fa4a5591fe1be3f56d6881": {
          "model_module": "@jupyter-widgets/base",
          "model_module_version": "1.2.0",
          "model_name": "LayoutModel",
          "state": {
            "_model_module": "@jupyter-widgets/base",
            "_model_module_version": "1.2.0",
            "_model_name": "LayoutModel",
            "_view_count": null,
            "_view_module": "@jupyter-widgets/base",
            "_view_module_version": "1.2.0",
            "_view_name": "LayoutView",
            "align_content": null,
            "align_items": null,
            "align_self": null,
            "border": null,
            "bottom": null,
            "display": null,
            "flex": null,
            "flex_flow": null,
            "grid_area": null,
            "grid_auto_columns": null,
            "grid_auto_flow": null,
            "grid_auto_rows": null,
            "grid_column": null,
            "grid_gap": null,
            "grid_row": null,
            "grid_template_areas": null,
            "grid_template_columns": null,
            "grid_template_rows": null,
            "height": null,
            "justify_content": null,
            "justify_items": null,
            "left": null,
            "margin": null,
            "max_height": null,
            "max_width": null,
            "min_height": null,
            "min_width": null,
            "object_fit": null,
            "object_position": null,
            "order": null,
            "overflow": null,
            "overflow_x": null,
            "overflow_y": null,
            "padding": null,
            "right": null,
            "top": null,
            "visibility": null,
            "width": null
          }
        },
        "25d40735954b402ca4999f3a71f070ff": {
          "model_module": "@jupyter-widgets/controls",
          "model_module_version": "1.5.0",
          "model_name": "DescriptionStyleModel",
          "state": {
            "_model_module": "@jupyter-widgets/controls",
            "_model_module_version": "1.5.0",
            "_model_name": "DescriptionStyleModel",
            "_view_count": null,
            "_view_module": "@jupyter-widgets/base",
            "_view_module_version": "1.2.0",
            "_view_name": "StyleView",
            "description_width": ""
          }
        },
        "2aec09382f274ce19324fe923fd0f6d8": {
          "model_module": "@jupyter-widgets/controls",
          "model_module_version": "1.5.0",
          "model_name": "HTMLModel",
          "state": {
            "_dom_classes": [],
            "_model_module": "@jupyter-widgets/controls",
            "_model_module_version": "1.5.0",
            "_model_name": "HTMLModel",
            "_view_count": null,
            "_view_module": "@jupyter-widgets/controls",
            "_view_module_version": "1.5.0",
            "_view_name": "HTMLView",
            "description": "",
            "description_tooltip": null,
            "layout": "IPY_MODEL_586b719a7923473d89cf2142ebfea472",
            "placeholder": "​",
            "style": "IPY_MODEL_9be92f4065ac43aeba21f075c130e69d",
            "value": " 2000/2000 [00:00&lt;00:00, 105360.70 examples/s]"
          }
        },
        "2eadcfc0dc2343dd82e3fe65ae79537b": {
          "model_module": "@jupyter-widgets/controls",
          "model_module_version": "1.5.0",
          "model_name": "FloatProgressModel",
          "state": {
            "_dom_classes": [],
            "_model_module": "@jupyter-widgets/controls",
            "_model_module_version": "1.5.0",
            "_model_name": "FloatProgressModel",
            "_view_count": null,
            "_view_module": "@jupyter-widgets/controls",
            "_view_module_version": "1.5.0",
            "_view_name": "ProgressView",
            "bar_style": "success",
            "description": "",
            "description_tooltip": null,
            "layout": "IPY_MODEL_04ee1d51708f4077aa2895bda0292fa9",
            "max": 2000,
            "min": 0,
            "orientation": "horizontal",
            "style": "IPY_MODEL_5c56c25cca0d4b64b7283fb2235d3fab",
            "value": 2000
          }
        },
        "4216fb6efbe842dfaadbb060dc739b02": {
          "model_module": "@jupyter-widgets/controls",
          "model_module_version": "1.5.0",
          "model_name": "HTMLModel",
          "state": {
            "_dom_classes": [],
            "_model_module": "@jupyter-widgets/controls",
            "_model_module_version": "1.5.0",
            "_model_name": "HTMLModel",
            "_view_count": null,
            "_view_module": "@jupyter-widgets/controls",
            "_view_module_version": "1.5.0",
            "_view_name": "HTMLView",
            "description": "",
            "description_tooltip": null,
            "layout": "IPY_MODEL_c1b635e0dccc465d87fbb080edbd58b5",
            "placeholder": "​",
            "style": "IPY_MODEL_d05ba3160f234400a15b061a9e82b530",
            "value": "Map: 100%"
          }
        },
        "49326994ed3f41f1ae3b6aaff170c4ee": {
          "model_module": "@jupyter-widgets/controls",
          "model_module_version": "1.5.0",
          "model_name": "DescriptionStyleModel",
          "state": {
            "_model_module": "@jupyter-widgets/controls",
            "_model_module_version": "1.5.0",
            "_model_name": "DescriptionStyleModel",
            "_view_count": null,
            "_view_module": "@jupyter-widgets/base",
            "_view_module_version": "1.2.0",
            "_view_name": "StyleView",
            "description_width": ""
          }
        },
        "56b0a84bf47048a0b101389f2ac25a89": {
          "model_module": "@jupyter-widgets/controls",
          "model_module_version": "1.5.0",
          "model_name": "HTMLModel",
          "state": {
            "_dom_classes": [],
            "_model_module": "@jupyter-widgets/controls",
            "_model_module_version": "1.5.0",
            "_model_name": "HTMLModel",
            "_view_count": null,
            "_view_module": "@jupyter-widgets/controls",
            "_view_module_version": "1.5.0",
            "_view_name": "HTMLView",
            "description": "",
            "description_tooltip": null,
            "layout": "IPY_MODEL_10f2cf5f9e2b486c993ba7c46a51a0a0",
            "placeholder": "​",
            "style": "IPY_MODEL_56c975496e0a42ffad0ae286788b8840",
            "value": " 10000/10000 [00:00&lt;00:00, 127600.08 examples/s]"
          }
        },
        "56c975496e0a42ffad0ae286788b8840": {
          "model_module": "@jupyter-widgets/controls",
          "model_module_version": "1.5.0",
          "model_name": "DescriptionStyleModel",
          "state": {
            "_model_module": "@jupyter-widgets/controls",
            "_model_module_version": "1.5.0",
            "_model_name": "DescriptionStyleModel",
            "_view_count": null,
            "_view_module": "@jupyter-widgets/base",
            "_view_module_version": "1.2.0",
            "_view_name": "StyleView",
            "description_width": ""
          }
        },
        "56cfdc2384df4cb9bd2d2157e19e5e4b": {
          "model_module": "@jupyter-widgets/controls",
          "model_module_version": "1.5.0",
          "model_name": "FloatProgressModel",
          "state": {
            "_dom_classes": [],
            "_model_module": "@jupyter-widgets/controls",
            "_model_module_version": "1.5.0",
            "_model_name": "FloatProgressModel",
            "_view_count": null,
            "_view_module": "@jupyter-widgets/controls",
            "_view_module_version": "1.5.0",
            "_view_name": "ProgressView",
            "bar_style": "success",
            "description": "",
            "description_tooltip": null,
            "layout": "IPY_MODEL_ea1983d2479e4c09a48c15852978e0d4",
            "max": 10000,
            "min": 0,
            "orientation": "horizontal",
            "style": "IPY_MODEL_8891b6c23f474f54ab66829242533910",
            "value": 10000
          }
        },
        "586b719a7923473d89cf2142ebfea472": {
          "model_module": "@jupyter-widgets/base",
          "model_module_version": "1.2.0",
          "model_name": "LayoutModel",
          "state": {
            "_model_module": "@jupyter-widgets/base",
            "_model_module_version": "1.2.0",
            "_model_name": "LayoutModel",
            "_view_count": null,
            "_view_module": "@jupyter-widgets/base",
            "_view_module_version": "1.2.0",
            "_view_name": "LayoutView",
            "align_content": null,
            "align_items": null,
            "align_self": null,
            "border": null,
            "bottom": null,
            "display": null,
            "flex": null,
            "flex_flow": null,
            "grid_area": null,
            "grid_auto_columns": null,
            "grid_auto_flow": null,
            "grid_auto_rows": null,
            "grid_column": null,
            "grid_gap": null,
            "grid_row": null,
            "grid_template_areas": null,
            "grid_template_columns": null,
            "grid_template_rows": null,
            "height": null,
            "justify_content": null,
            "justify_items": null,
            "left": null,
            "margin": null,
            "max_height": null,
            "max_width": null,
            "min_height": null,
            "min_width": null,
            "object_fit": null,
            "object_position": null,
            "order": null,
            "overflow": null,
            "overflow_x": null,
            "overflow_y": null,
            "padding": null,
            "right": null,
            "top": null,
            "visibility": null,
            "width": null
          }
        },
        "592fe28915624605ba456c522b594eed": {
          "model_module": "@jupyter-widgets/controls",
          "model_module_version": "1.5.0",
          "model_name": "HBoxModel",
          "state": {
            "_dom_classes": [],
            "_model_module": "@jupyter-widgets/controls",
            "_model_module_version": "1.5.0",
            "_model_name": "HBoxModel",
            "_view_count": null,
            "_view_module": "@jupyter-widgets/controls",
            "_view_module_version": "1.5.0",
            "_view_name": "HBoxView",
            "box_style": "",
            "children": [
              "IPY_MODEL_b43db24e0f3b413998b41c7913d520ad",
              "IPY_MODEL_f8feb4eb7799411da91295f4f2e1240d",
              "IPY_MODEL_2aec09382f274ce19324fe923fd0f6d8"
            ],
            "layout": "IPY_MODEL_6b5133a84d534e4b88c53c66757fb62d"
          }
        },
        "5c56c25cca0d4b64b7283fb2235d3fab": {
          "model_module": "@jupyter-widgets/controls",
          "model_module_version": "1.5.0",
          "model_name": "ProgressStyleModel",
          "state": {
            "_model_module": "@jupyter-widgets/controls",
            "_model_module_version": "1.5.0",
            "_model_name": "ProgressStyleModel",
            "_view_count": null,
            "_view_module": "@jupyter-widgets/base",
            "_view_module_version": "1.2.0",
            "_view_name": "StyleView",
            "bar_color": null,
            "description_width": ""
          }
        },
        "68573b2740bc4094bfe72c26243c0f77": {
          "model_module": "@jupyter-widgets/controls",
          "model_module_version": "1.5.0",
          "model_name": "HTMLModel",
          "state": {
            "_dom_classes": [],
            "_model_module": "@jupyter-widgets/controls",
            "_model_module_version": "1.5.0",
            "_model_name": "HTMLModel",
            "_view_count": null,
            "_view_module": "@jupyter-widgets/controls",
            "_view_module_version": "1.5.0",
            "_view_name": "HTMLView",
            "description": "",
            "description_tooltip": null,
            "layout": "IPY_MODEL_7861cc9a7e924a648129cea581c4a661",
            "placeholder": "​",
            "style": "IPY_MODEL_7947023ce0614133834ae7d4bac91469",
            "value": " 2000/2000 [00:02&lt;00:00, 755.10 examples/s]"
          }
        },
        "6a7a6115601b43d7938e99dc68e39a2a": {
          "model_module": "@jupyter-widgets/base",
          "model_module_version": "1.2.0",
          "model_name": "LayoutModel",
          "state": {
            "_model_module": "@jupyter-widgets/base",
            "_model_module_version": "1.2.0",
            "_model_name": "LayoutModel",
            "_view_count": null,
            "_view_module": "@jupyter-widgets/base",
            "_view_module_version": "1.2.0",
            "_view_name": "LayoutView",
            "align_content": null,
            "align_items": null,
            "align_self": null,
            "border": null,
            "bottom": null,
            "display": null,
            "flex": null,
            "flex_flow": null,
            "grid_area": null,
            "grid_auto_columns": null,
            "grid_auto_flow": null,
            "grid_auto_rows": null,
            "grid_column": null,
            "grid_gap": null,
            "grid_row": null,
            "grid_template_areas": null,
            "grid_template_columns": null,
            "grid_template_rows": null,
            "height": null,
            "justify_content": null,
            "justify_items": null,
            "left": null,
            "margin": null,
            "max_height": null,
            "max_width": null,
            "min_height": null,
            "min_width": null,
            "object_fit": null,
            "object_position": null,
            "order": null,
            "overflow": null,
            "overflow_x": null,
            "overflow_y": null,
            "padding": null,
            "right": null,
            "top": null,
            "visibility": null,
            "width": null
          }
        },
        "6b5133a84d534e4b88c53c66757fb62d": {
          "model_module": "@jupyter-widgets/base",
          "model_module_version": "1.2.0",
          "model_name": "LayoutModel",
          "state": {
            "_model_module": "@jupyter-widgets/base",
            "_model_module_version": "1.2.0",
            "_model_name": "LayoutModel",
            "_view_count": null,
            "_view_module": "@jupyter-widgets/base",
            "_view_module_version": "1.2.0",
            "_view_name": "LayoutView",
            "align_content": null,
            "align_items": null,
            "align_self": null,
            "border": null,
            "bottom": null,
            "display": null,
            "flex": null,
            "flex_flow": null,
            "grid_area": null,
            "grid_auto_columns": null,
            "grid_auto_flow": null,
            "grid_auto_rows": null,
            "grid_column": null,
            "grid_gap": null,
            "grid_row": null,
            "grid_template_areas": null,
            "grid_template_columns": null,
            "grid_template_rows": null,
            "height": null,
            "justify_content": null,
            "justify_items": null,
            "left": null,
            "margin": null,
            "max_height": null,
            "max_width": null,
            "min_height": null,
            "min_width": null,
            "object_fit": null,
            "object_position": null,
            "order": null,
            "overflow": null,
            "overflow_x": null,
            "overflow_y": null,
            "padding": null,
            "right": null,
            "top": null,
            "visibility": null,
            "width": null
          }
        },
        "7861cc9a7e924a648129cea581c4a661": {
          "model_module": "@jupyter-widgets/base",
          "model_module_version": "1.2.0",
          "model_name": "LayoutModel",
          "state": {
            "_model_module": "@jupyter-widgets/base",
            "_model_module_version": "1.2.0",
            "_model_name": "LayoutModel",
            "_view_count": null,
            "_view_module": "@jupyter-widgets/base",
            "_view_module_version": "1.2.0",
            "_view_name": "LayoutView",
            "align_content": null,
            "align_items": null,
            "align_self": null,
            "border": null,
            "bottom": null,
            "display": null,
            "flex": null,
            "flex_flow": null,
            "grid_area": null,
            "grid_auto_columns": null,
            "grid_auto_flow": null,
            "grid_auto_rows": null,
            "grid_column": null,
            "grid_gap": null,
            "grid_row": null,
            "grid_template_areas": null,
            "grid_template_columns": null,
            "grid_template_rows": null,
            "height": null,
            "justify_content": null,
            "justify_items": null,
            "left": null,
            "margin": null,
            "max_height": null,
            "max_width": null,
            "min_height": null,
            "min_width": null,
            "object_fit": null,
            "object_position": null,
            "order": null,
            "overflow": null,
            "overflow_x": null,
            "overflow_y": null,
            "padding": null,
            "right": null,
            "top": null,
            "visibility": null,
            "width": null
          }
        },
        "7947023ce0614133834ae7d4bac91469": {
          "model_module": "@jupyter-widgets/controls",
          "model_module_version": "1.5.0",
          "model_name": "DescriptionStyleModel",
          "state": {
            "_model_module": "@jupyter-widgets/controls",
            "_model_module_version": "1.5.0",
            "_model_name": "DescriptionStyleModel",
            "_view_count": null,
            "_view_module": "@jupyter-widgets/base",
            "_view_module_version": "1.2.0",
            "_view_name": "StyleView",
            "description_width": ""
          }
        },
        "8891b6c23f474f54ab66829242533910": {
          "model_module": "@jupyter-widgets/controls",
          "model_module_version": "1.5.0",
          "model_name": "ProgressStyleModel",
          "state": {
            "_model_module": "@jupyter-widgets/controls",
            "_model_module_version": "1.5.0",
            "_model_name": "ProgressStyleModel",
            "_view_count": null,
            "_view_module": "@jupyter-widgets/base",
            "_view_module_version": "1.2.0",
            "_view_name": "StyleView",
            "bar_color": null,
            "description_width": ""
          }
        },
        "89e23c365cc6480a86c873d5b007f592": {
          "model_module": "@jupyter-widgets/controls",
          "model_module_version": "1.5.0",
          "model_name": "FloatProgressModel",
          "state": {
            "_dom_classes": [],
            "_model_module": "@jupyter-widgets/controls",
            "_model_module_version": "1.5.0",
            "_model_name": "FloatProgressModel",
            "_view_count": null,
            "_view_module": "@jupyter-widgets/controls",
            "_view_module_version": "1.5.0",
            "_view_name": "ProgressView",
            "bar_style": "success",
            "description": "",
            "description_tooltip": null,
            "layout": "IPY_MODEL_6a7a6115601b43d7938e99dc68e39a2a",
            "max": 10000,
            "min": 0,
            "orientation": "horizontal",
            "style": "IPY_MODEL_a21fef1f42d44798b28ca920ba587d45",
            "value": 10000
          }
        },
        "994ab1e6dcff4270818bc253699dc1be": {
          "model_module": "@jupyter-widgets/base",
          "model_module_version": "1.2.0",
          "model_name": "LayoutModel",
          "state": {
            "_model_module": "@jupyter-widgets/base",
            "_model_module_version": "1.2.0",
            "_model_name": "LayoutModel",
            "_view_count": null,
            "_view_module": "@jupyter-widgets/base",
            "_view_module_version": "1.2.0",
            "_view_name": "LayoutView",
            "align_content": null,
            "align_items": null,
            "align_self": null,
            "border": null,
            "bottom": null,
            "display": null,
            "flex": null,
            "flex_flow": null,
            "grid_area": null,
            "grid_auto_columns": null,
            "grid_auto_flow": null,
            "grid_auto_rows": null,
            "grid_column": null,
            "grid_gap": null,
            "grid_row": null,
            "grid_template_areas": null,
            "grid_template_columns": null,
            "grid_template_rows": null,
            "height": null,
            "justify_content": null,
            "justify_items": null,
            "left": null,
            "margin": null,
            "max_height": null,
            "max_width": null,
            "min_height": null,
            "min_width": null,
            "object_fit": null,
            "object_position": null,
            "order": null,
            "overflow": null,
            "overflow_x": null,
            "overflow_y": null,
            "padding": null,
            "right": null,
            "top": null,
            "visibility": null,
            "width": null
          }
        },
        "9be92f4065ac43aeba21f075c130e69d": {
          "model_module": "@jupyter-widgets/controls",
          "model_module_version": "1.5.0",
          "model_name": "DescriptionStyleModel",
          "state": {
            "_model_module": "@jupyter-widgets/controls",
            "_model_module_version": "1.5.0",
            "_model_name": "DescriptionStyleModel",
            "_view_count": null,
            "_view_module": "@jupyter-widgets/base",
            "_view_module_version": "1.2.0",
            "_view_name": "StyleView",
            "description_width": ""
          }
        },
        "a0426430d7764d989f8a7316dec74350": {
          "model_module": "@jupyter-widgets/controls",
          "model_module_version": "1.5.0",
          "model_name": "HBoxModel",
          "state": {
            "_dom_classes": [],
            "_model_module": "@jupyter-widgets/controls",
            "_model_module_version": "1.5.0",
            "_model_name": "HBoxModel",
            "_view_count": null,
            "_view_module": "@jupyter-widgets/controls",
            "_view_module_version": "1.5.0",
            "_view_name": "HBoxView",
            "box_style": "",
            "children": [
              "IPY_MODEL_4216fb6efbe842dfaadbb060dc739b02",
              "IPY_MODEL_2eadcfc0dc2343dd82e3fe65ae79537b",
              "IPY_MODEL_68573b2740bc4094bfe72c26243c0f77"
            ],
            "layout": "IPY_MODEL_bc95b97bfa9949b99217e417c4b4c242"
          }
        },
        "a21fef1f42d44798b28ca920ba587d45": {
          "model_module": "@jupyter-widgets/controls",
          "model_module_version": "1.5.0",
          "model_name": "ProgressStyleModel",
          "state": {
            "_model_module": "@jupyter-widgets/controls",
            "_model_module_version": "1.5.0",
            "_model_name": "ProgressStyleModel",
            "_view_count": null,
            "_view_module": "@jupyter-widgets/base",
            "_view_module_version": "1.2.0",
            "_view_name": "StyleView",
            "bar_color": null,
            "description_width": ""
          }
        },
        "b43db24e0f3b413998b41c7913d520ad": {
          "model_module": "@jupyter-widgets/controls",
          "model_module_version": "1.5.0",
          "model_name": "HTMLModel",
          "state": {
            "_dom_classes": [],
            "_model_module": "@jupyter-widgets/controls",
            "_model_module_version": "1.5.0",
            "_model_name": "HTMLModel",
            "_view_count": null,
            "_view_module": "@jupyter-widgets/controls",
            "_view_module_version": "1.5.0",
            "_view_name": "HTMLView",
            "description": "",
            "description_tooltip": null,
            "layout": "IPY_MODEL_994ab1e6dcff4270818bc253699dc1be",
            "placeholder": "​",
            "style": "IPY_MODEL_25d40735954b402ca4999f3a71f070ff",
            "value": "Casting the dataset: 100%"
          }
        },
        "bc95b97bfa9949b99217e417c4b4c242": {
          "model_module": "@jupyter-widgets/base",
          "model_module_version": "1.2.0",
          "model_name": "LayoutModel",
          "state": {
            "_model_module": "@jupyter-widgets/base",
            "_model_module_version": "1.2.0",
            "_model_name": "LayoutModel",
            "_view_count": null,
            "_view_module": "@jupyter-widgets/base",
            "_view_module_version": "1.2.0",
            "_view_name": "LayoutView",
            "align_content": null,
            "align_items": null,
            "align_self": null,
            "border": null,
            "bottom": null,
            "display": null,
            "flex": null,
            "flex_flow": null,
            "grid_area": null,
            "grid_auto_columns": null,
            "grid_auto_flow": null,
            "grid_auto_rows": null,
            "grid_column": null,
            "grid_gap": null,
            "grid_row": null,
            "grid_template_areas": null,
            "grid_template_columns": null,
            "grid_template_rows": null,
            "height": null,
            "justify_content": null,
            "justify_items": null,
            "left": null,
            "margin": null,
            "max_height": null,
            "max_width": null,
            "min_height": null,
            "min_width": null,
            "object_fit": null,
            "object_position": null,
            "order": null,
            "overflow": null,
            "overflow_x": null,
            "overflow_y": null,
            "padding": null,
            "right": null,
            "top": null,
            "visibility": null,
            "width": null
          }
        },
        "c1028573572244c7a77c52531182d9d1": {
          "model_module": "@jupyter-widgets/base",
          "model_module_version": "1.2.0",
          "model_name": "LayoutModel",
          "state": {
            "_model_module": "@jupyter-widgets/base",
            "_model_module_version": "1.2.0",
            "_model_name": "LayoutModel",
            "_view_count": null,
            "_view_module": "@jupyter-widgets/base",
            "_view_module_version": "1.2.0",
            "_view_name": "LayoutView",
            "align_content": null,
            "align_items": null,
            "align_self": null,
            "border": null,
            "bottom": null,
            "display": null,
            "flex": null,
            "flex_flow": null,
            "grid_area": null,
            "grid_auto_columns": null,
            "grid_auto_flow": null,
            "grid_auto_rows": null,
            "grid_column": null,
            "grid_gap": null,
            "grid_row": null,
            "grid_template_areas": null,
            "grid_template_columns": null,
            "grid_template_rows": null,
            "height": null,
            "justify_content": null,
            "justify_items": null,
            "left": null,
            "margin": null,
            "max_height": null,
            "max_width": null,
            "min_height": null,
            "min_width": null,
            "object_fit": null,
            "object_position": null,
            "order": null,
            "overflow": null,
            "overflow_x": null,
            "overflow_y": null,
            "padding": null,
            "right": null,
            "top": null,
            "visibility": null,
            "width": null
          }
        },
        "c1b635e0dccc465d87fbb080edbd58b5": {
          "model_module": "@jupyter-widgets/base",
          "model_module_version": "1.2.0",
          "model_name": "LayoutModel",
          "state": {
            "_model_module": "@jupyter-widgets/base",
            "_model_module_version": "1.2.0",
            "_model_name": "LayoutModel",
            "_view_count": null,
            "_view_module": "@jupyter-widgets/base",
            "_view_module_version": "1.2.0",
            "_view_name": "LayoutView",
            "align_content": null,
            "align_items": null,
            "align_self": null,
            "border": null,
            "bottom": null,
            "display": null,
            "flex": null,
            "flex_flow": null,
            "grid_area": null,
            "grid_auto_columns": null,
            "grid_auto_flow": null,
            "grid_auto_rows": null,
            "grid_column": null,
            "grid_gap": null,
            "grid_row": null,
            "grid_template_areas": null,
            "grid_template_columns": null,
            "grid_template_rows": null,
            "height": null,
            "justify_content": null,
            "justify_items": null,
            "left": null,
            "margin": null,
            "max_height": null,
            "max_width": null,
            "min_height": null,
            "min_width": null,
            "object_fit": null,
            "object_position": null,
            "order": null,
            "overflow": null,
            "overflow_x": null,
            "overflow_y": null,
            "padding": null,
            "right": null,
            "top": null,
            "visibility": null,
            "width": null
          }
        },
        "c609c7266bbd424fad563b9b8b06db46": {
          "model_module": "@jupyter-widgets/controls",
          "model_module_version": "1.5.0",
          "model_name": "HTMLModel",
          "state": {
            "_dom_classes": [],
            "_model_module": "@jupyter-widgets/controls",
            "_model_module_version": "1.5.0",
            "_model_name": "HTMLModel",
            "_view_count": null,
            "_view_module": "@jupyter-widgets/controls",
            "_view_module_version": "1.5.0",
            "_view_name": "HTMLView",
            "description": "",
            "description_tooltip": null,
            "layout": "IPY_MODEL_fb8fc0aaa78946b79c0bf0b958352329",
            "placeholder": "​",
            "style": "IPY_MODEL_1788eab21a214a49a8617d858fc986e0",
            "value": "Casting the dataset: 100%"
          }
        },
        "c858757c7c974730880c8d829430697d": {
          "model_module": "@jupyter-widgets/controls",
          "model_module_version": "1.5.0",
          "model_name": "ProgressStyleModel",
          "state": {
            "_model_module": "@jupyter-widgets/controls",
            "_model_module_version": "1.5.0",
            "_model_name": "ProgressStyleModel",
            "_view_count": null,
            "_view_module": "@jupyter-widgets/base",
            "_view_module_version": "1.2.0",
            "_view_name": "StyleView",
            "bar_color": null,
            "description_width": ""
          }
        },
        "d05ba3160f234400a15b061a9e82b530": {
          "model_module": "@jupyter-widgets/controls",
          "model_module_version": "1.5.0",
          "model_name": "DescriptionStyleModel",
          "state": {
            "_model_module": "@jupyter-widgets/controls",
            "_model_module_version": "1.5.0",
            "_model_name": "DescriptionStyleModel",
            "_view_count": null,
            "_view_module": "@jupyter-widgets/base",
            "_view_module_version": "1.2.0",
            "_view_name": "StyleView",
            "description_width": ""
          }
        },
        "e2666e0b77264d97b0ce4e8911b2e0e4": {
          "model_module": "@jupyter-widgets/base",
          "model_module_version": "1.2.0",
          "model_name": "LayoutModel",
          "state": {
            "_model_module": "@jupyter-widgets/base",
            "_model_module_version": "1.2.0",
            "_model_name": "LayoutModel",
            "_view_count": null,
            "_view_module": "@jupyter-widgets/base",
            "_view_module_version": "1.2.0",
            "_view_name": "LayoutView",
            "align_content": null,
            "align_items": null,
            "align_self": null,
            "border": null,
            "bottom": null,
            "display": null,
            "flex": null,
            "flex_flow": null,
            "grid_area": null,
            "grid_auto_columns": null,
            "grid_auto_flow": null,
            "grid_auto_rows": null,
            "grid_column": null,
            "grid_gap": null,
            "grid_row": null,
            "grid_template_areas": null,
            "grid_template_columns": null,
            "grid_template_rows": null,
            "height": null,
            "justify_content": null,
            "justify_items": null,
            "left": null,
            "margin": null,
            "max_height": null,
            "max_width": null,
            "min_height": null,
            "min_width": null,
            "object_fit": null,
            "object_position": null,
            "order": null,
            "overflow": null,
            "overflow_x": null,
            "overflow_y": null,
            "padding": null,
            "right": null,
            "top": null,
            "visibility": null,
            "width": null
          }
        },
        "e9bbffee69424e1d910671fe50faabfe": {
          "model_module": "@jupyter-widgets/controls",
          "model_module_version": "1.5.0",
          "model_name": "HBoxModel",
          "state": {
            "_dom_classes": [],
            "_model_module": "@jupyter-widgets/controls",
            "_model_module_version": "1.5.0",
            "_model_name": "HBoxModel",
            "_view_count": null,
            "_view_module": "@jupyter-widgets/controls",
            "_view_module_version": "1.5.0",
            "_view_name": "HBoxView",
            "box_style": "",
            "children": [
              "IPY_MODEL_c609c7266bbd424fad563b9b8b06db46",
              "IPY_MODEL_56cfdc2384df4cb9bd2d2157e19e5e4b",
              "IPY_MODEL_56b0a84bf47048a0b101389f2ac25a89"
            ],
            "layout": "IPY_MODEL_17d3726134fa4a5591fe1be3f56d6881"
          }
        },
        "ea1983d2479e4c09a48c15852978e0d4": {
          "model_module": "@jupyter-widgets/base",
          "model_module_version": "1.2.0",
          "model_name": "LayoutModel",
          "state": {
            "_model_module": "@jupyter-widgets/base",
            "_model_module_version": "1.2.0",
            "_model_name": "LayoutModel",
            "_view_count": null,
            "_view_module": "@jupyter-widgets/base",
            "_view_module_version": "1.2.0",
            "_view_name": "LayoutView",
            "align_content": null,
            "align_items": null,
            "align_self": null,
            "border": null,
            "bottom": null,
            "display": null,
            "flex": null,
            "flex_flow": null,
            "grid_area": null,
            "grid_auto_columns": null,
            "grid_auto_flow": null,
            "grid_auto_rows": null,
            "grid_column": null,
            "grid_gap": null,
            "grid_row": null,
            "grid_template_areas": null,
            "grid_template_columns": null,
            "grid_template_rows": null,
            "height": null,
            "justify_content": null,
            "justify_items": null,
            "left": null,
            "margin": null,
            "max_height": null,
            "max_width": null,
            "min_height": null,
            "min_width": null,
            "object_fit": null,
            "object_position": null,
            "order": null,
            "overflow": null,
            "overflow_x": null,
            "overflow_y": null,
            "padding": null,
            "right": null,
            "top": null,
            "visibility": null,
            "width": null
          }
        },
        "ecdaeafa2ef94d29b5442ecdafdbf812": {
          "model_module": "@jupyter-widgets/controls",
          "model_module_version": "1.5.0",
          "model_name": "DescriptionStyleModel",
          "state": {
            "_model_module": "@jupyter-widgets/controls",
            "_model_module_version": "1.5.0",
            "_model_name": "DescriptionStyleModel",
            "_view_count": null,
            "_view_module": "@jupyter-widgets/base",
            "_view_module_version": "1.2.0",
            "_view_name": "StyleView",
            "description_width": ""
          }
        },
        "ee78f8d3ece04a3c81db4a3fac6500ae": {
          "model_module": "@jupyter-widgets/base",
          "model_module_version": "1.2.0",
          "model_name": "LayoutModel",
          "state": {
            "_model_module": "@jupyter-widgets/base",
            "_model_module_version": "1.2.0",
            "_model_name": "LayoutModel",
            "_view_count": null,
            "_view_module": "@jupyter-widgets/base",
            "_view_module_version": "1.2.0",
            "_view_name": "LayoutView",
            "align_content": null,
            "align_items": null,
            "align_self": null,
            "border": null,
            "bottom": null,
            "display": null,
            "flex": null,
            "flex_flow": null,
            "grid_area": null,
            "grid_auto_columns": null,
            "grid_auto_flow": null,
            "grid_auto_rows": null,
            "grid_column": null,
            "grid_gap": null,
            "grid_row": null,
            "grid_template_areas": null,
            "grid_template_columns": null,
            "grid_template_rows": null,
            "height": null,
            "justify_content": null,
            "justify_items": null,
            "left": null,
            "margin": null,
            "max_height": null,
            "max_width": null,
            "min_height": null,
            "min_width": null,
            "object_fit": null,
            "object_position": null,
            "order": null,
            "overflow": null,
            "overflow_x": null,
            "overflow_y": null,
            "padding": null,
            "right": null,
            "top": null,
            "visibility": null,
            "width": null
          }
        },
        "f78366cd9afe4c4592bfff52e330bc9b": {
          "model_module": "@jupyter-widgets/controls",
          "model_module_version": "1.5.0",
          "model_name": "HTMLModel",
          "state": {
            "_dom_classes": [],
            "_model_module": "@jupyter-widgets/controls",
            "_model_module_version": "1.5.0",
            "_model_name": "HTMLModel",
            "_view_count": null,
            "_view_module": "@jupyter-widgets/controls",
            "_view_module_version": "1.5.0",
            "_view_name": "HTMLView",
            "description": "",
            "description_tooltip": null,
            "layout": "IPY_MODEL_ee78f8d3ece04a3c81db4a3fac6500ae",
            "placeholder": "​",
            "style": "IPY_MODEL_ecdaeafa2ef94d29b5442ecdafdbf812",
            "value": " 10000/10000 [00:15&lt;00:00, 709.52 examples/s]"
          }
        },
        "f8feb4eb7799411da91295f4f2e1240d": {
          "model_module": "@jupyter-widgets/controls",
          "model_module_version": "1.5.0",
          "model_name": "FloatProgressModel",
          "state": {
            "_dom_classes": [],
            "_model_module": "@jupyter-widgets/controls",
            "_model_module_version": "1.5.0",
            "_model_name": "FloatProgressModel",
            "_view_count": null,
            "_view_module": "@jupyter-widgets/controls",
            "_view_module_version": "1.5.0",
            "_view_name": "ProgressView",
            "bar_style": "success",
            "description": "",
            "description_tooltip": null,
            "layout": "IPY_MODEL_ffd8dfd0a3a3431d903014f54f0438c3",
            "max": 2000,
            "min": 0,
            "orientation": "horizontal",
            "style": "IPY_MODEL_c858757c7c974730880c8d829430697d",
            "value": 2000
          }
        },
        "fb8fc0aaa78946b79c0bf0b958352329": {
          "model_module": "@jupyter-widgets/base",
          "model_module_version": "1.2.0",
          "model_name": "LayoutModel",
          "state": {
            "_model_module": "@jupyter-widgets/base",
            "_model_module_version": "1.2.0",
            "_model_name": "LayoutModel",
            "_view_count": null,
            "_view_module": "@jupyter-widgets/base",
            "_view_module_version": "1.2.0",
            "_view_name": "LayoutView",
            "align_content": null,
            "align_items": null,
            "align_self": null,
            "border": null,
            "bottom": null,
            "display": null,
            "flex": null,
            "flex_flow": null,
            "grid_area": null,
            "grid_auto_columns": null,
            "grid_auto_flow": null,
            "grid_auto_rows": null,
            "grid_column": null,
            "grid_gap": null,
            "grid_row": null,
            "grid_template_areas": null,
            "grid_template_columns": null,
            "grid_template_rows": null,
            "height": null,
            "justify_content": null,
            "justify_items": null,
            "left": null,
            "margin": null,
            "max_height": null,
            "max_width": null,
            "min_height": null,
            "min_width": null,
            "object_fit": null,
            "object_position": null,
            "order": null,
            "overflow": null,
            "overflow_x": null,
            "overflow_y": null,
            "padding": null,
            "right": null,
            "top": null,
            "visibility": null,
            "width": null
          }
        },
        "ffd8dfd0a3a3431d903014f54f0438c3": {
          "model_module": "@jupyter-widgets/base",
          "model_module_version": "1.2.0",
          "model_name": "LayoutModel",
          "state": {
            "_model_module": "@jupyter-widgets/base",
            "_model_module_version": "1.2.0",
            "_model_name": "LayoutModel",
            "_view_count": null,
            "_view_module": "@jupyter-widgets/base",
            "_view_module_version": "1.2.0",
            "_view_name": "LayoutView",
            "align_content": null,
            "align_items": null,
            "align_self": null,
            "border": null,
            "bottom": null,
            "display": null,
            "flex": null,
            "flex_flow": null,
            "grid_area": null,
            "grid_auto_columns": null,
            "grid_auto_flow": null,
            "grid_auto_rows": null,
            "grid_column": null,
            "grid_gap": null,
            "grid_row": null,
            "grid_template_areas": null,
            "grid_template_columns": null,
            "grid_template_rows": null,
            "height": null,
            "justify_content": null,
            "justify_items": null,
            "left": null,
            "margin": null,
            "max_height": null,
            "max_width": null,
            "min_height": null,
            "min_width": null,
            "object_fit": null,
            "object_position": null,
            "order": null,
            "overflow": null,
            "overflow_x": null,
            "overflow_y": null,
            "padding": null,
            "right": null,
            "top": null,
            "visibility": null,
            "width": null
          }
        }
      }
    }
  },
  "nbformat": 4,
  "nbformat_minor": 0
}
